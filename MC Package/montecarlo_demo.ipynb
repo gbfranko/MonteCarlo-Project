{
 "cells": [
  {
   "cell_type": "code",
   "execution_count": 1,
   "id": "f349d1dd-9b04-440a-9edc-8fdc340f152e",
   "metadata": {},
   "outputs": [],
   "source": [
    "import pandas as pd\n",
    "import numpy as np\n",
    "import os\n",
    "os.chdir('/Users/gunnarfranko/Downloads/DS 5100/')\n",
    "import montecarlo as FClasses"
   ]
  },
  {
   "cell_type": "markdown",
   "id": "645a268f-a2b1-4265-b301-bc4508682d24",
   "metadata": {},
   "source": [
    "# Scenario 1: A 2-Headed Coin"
   ]
  },
  {
   "cell_type": "markdown",
   "id": "5f89dd9b-f8b5-4949-b39e-919109704af9",
   "metadata": {},
   "source": [
    "### 1. "
   ]
  },
  {
   "cell_type": "code",
   "execution_count": 2,
   "id": "c5429ca0-c00c-4b02-a766-131d0e975ba8",
   "metadata": {},
   "outputs": [],
   "source": [
    "coin1= FClasses.Die(['H', 'T'])\n",
    "coin2 = FClasses.Die(['H', 'T'])\n",
    "coin2.change_weight('H', 5.0)\n",
    "\n",
    "#Creates Coins 1 and 2 and changes the weights of Coin 2"
   ]
  },
  {
   "cell_type": "markdown",
   "id": "344f18aa-0fb8-486e-8779-c587d2b8bdb9",
   "metadata": {},
   "source": [
    "### 2. "
   ]
  },
  {
   "cell_type": "code",
   "execution_count": 3,
   "id": "b7dfbb41-3372-40c9-aa50-1d576a0f4eb7",
   "metadata": {},
   "outputs": [
    {
     "data": {
      "text/plain": [
       "pandas.core.frame.DataFrame"
      ]
     },
     "execution_count": 3,
     "metadata": {},
     "output_type": "execute_result"
    }
   ],
   "source": [
    "game1 = FClasses.Game([coin1, coin1, coin1])\n",
    "game1.play(1000)\n",
    "type(coin1._diedf)\n",
    "#Creates game with fair coins and rolls it 1000 times"
   ]
  },
  {
   "cell_type": "markdown",
   "id": "67d729fc-0714-43f5-b171-91667ddc1031",
   "metadata": {},
   "source": [
    "### 3. "
   ]
  },
  {
   "cell_type": "code",
   "execution_count": 4,
   "id": "e498412e-77da-44e0-818c-c8099a7d58e7",
   "metadata": {},
   "outputs": [],
   "source": [
    "game2 = FClasses.Game([coin1, coin2, coin2])\n",
    "game2.play(1000)\n",
    "#Creates next game and rolls it 1000 times"
   ]
  },
  {
   "cell_type": "markdown",
   "id": "93b539b5-fb28-4724-ac95-60f30734b320",
   "metadata": {},
   "source": [
    "### 4./5."
   ]
  },
  {
   "cell_type": "code",
   "execution_count": 5,
   "id": "130f3a5d-b361-4250-9af4-6738b90ac25e",
   "metadata": {},
   "outputs": [],
   "source": [
    "game1an = FClasses.Analyzer(game1)\n",
    "game2an = FClasses.Analyzer(game2)\n",
    "game1freq = (game1an.jackpot()/1000)\n",
    "game2freq = (game2an.jackpot()/1000)\n",
    "#Uses Analyzer.jackpot() for each game, and divides it by the total number of rolls to get the relative frequency"
   ]
  },
  {
   "cell_type": "markdown",
   "id": "6d9ec5dd-ab47-4055-bd3e-c058b7467290",
   "metadata": {},
   "source": [
    "### 6."
   ]
  },
  {
   "cell_type": "code",
   "execution_count": 6,
   "id": "162dcced-8f5c-48dc-813c-eef80d76c607",
   "metadata": {},
   "outputs": [
    {
     "data": {
      "text/plain": [
       "<AxesSubplot:title={'center':'Jackpot Frequencies'}, xlabel='Game', ylabel='Frequency'>"
      ]
     },
     "execution_count": 6,
     "metadata": {},
     "output_type": "execute_result"
    },
    {
     "data": {
      "image/png": "[encoded data removed]",
      "text/plain": [
       "<Figure size 432x288 with 1 Axes>"
      ]
     },
     "metadata": {
      "needs_background": "light"
     },
     "output_type": "display_data"
    }
   ],
   "source": [
    "gamedf = pd.DataFrame({'Freq': [game1freq, game2freq]}, index=['Fair', 'Unfair'])\n",
    "gamedf.plot.bar(title = 'Jackpot Frequencies', xlabel ='Game', ylabel='Frequency', legend = False)"
   ]
  },
  {
   "cell_type": "markdown",
   "id": "3c6a1790-3ded-465c-90fd-5e5cba56bd6c",
   "metadata": {
    "tags": []
   },
   "source": [
    "# Scenario 2: A 6-Sided Die"
   ]
  },
  {
   "cell_type": "markdown",
   "id": "09514652-5a18-48af-b11f-de87e90c3b7e",
   "metadata": {},
   "source": [
    "### 1."
   ]
  },
  {
   "cell_type": "code",
   "execution_count": 7,
   "id": "ef7cf2fc-cd88-4377-b54f-e8420e5607a8",
   "metadata": {},
   "outputs": [],
   "source": [
    "FDie = FClasses.Die(['1','2','3','4','5','6'])\n",
    "T1Die = FClasses.Die(['1','2','3','4','5','6'])\n",
    "T2Die = FClasses.Die(['1','2','3','4','5','6'])\n",
    "T1Die.change_weight('6', 5.0)\n",
    "T2Die.change_weight('1', 5.0)\n",
    "\n",
    "#Creates the 3 die and changes the weight for the unfair die "
   ]
  },
  {
   "cell_type": "markdown",
   "id": "144a0d49-687b-488a-921a-603e63d907e8",
   "metadata": {},
   "source": [
    "### 2."
   ]
  },
  {
   "cell_type": "code",
   "execution_count": 8,
   "id": "ecd1da14-6a13-4b12-af02-9c491ea03870",
   "metadata": {},
   "outputs": [],
   "source": [
    "fgame = FClasses.Game([FDie, FDie, FDie, FDie, FDie])\n",
    "fgame.play(10000)\n",
    "#Runs the game with all fair die "
   ]
  },
  {
   "cell_type": "markdown",
   "id": "f9692afd-8fe4-4b4d-8445-4237e6ff8fe6",
   "metadata": {},
   "source": [
    "### 3."
   ]
  },
  {
   "cell_type": "code",
   "execution_count": 19,
   "id": "21f1b7c4-e7ff-4741-96c8-93ff03baab0a",
   "metadata": {},
   "outputs": [
    {
     "data": {
      "text/plain": [
       "5"
      ]
     },
     "execution_count": 19,
     "metadata": {},
     "output_type": "execute_result"
    }
   ],
   "source": [
    "wgame = FClasses.Game([T1Die, T1Die, T2Die, FDie, FDie])\n",
    "wgame.play(10000)\n",
    "#Runs the game with the weighted die "
   ]
  },
  {
   "cell_type": "markdown",
   "id": "96fc8433-17d8-4fd4-9b97-a7fd37dc93d3",
   "metadata": {},
   "source": [
    "### 4."
   ]
  },
  {
   "cell_type": "code",
   "execution_count": 10,
   "id": "b4b7d601-37d7-4da6-86b3-25ab703754a5",
   "metadata": {},
   "outputs": [
    {
     "data": {
      "text/plain": [
       "<AxesSubplot:title={'center':'Jackpot Frequencies'}, xlabel='Game', ylabel='Frequency'>"
      ]
     },
     "execution_count": 10,
     "metadata": {},
     "output_type": "execute_result"
    },
    {
     "data": {
      "image/png": "[encoded data removed]",
      "text/plain": [
       "<Figure size 432x288 with 1 Axes>"
      ]
     },
     "metadata": {
      "needs_background": "light"
     },
     "output_type": "display_data"
    }
   ],
   "source": [
    "fgamean = FClasses.Analyzer(fgame)\n",
    "wgamean = FClasses.Analyzer(wgame)\n",
    "fgamefreq = (fgamean.jackpot()/10000)\n",
    "wgamefreq = (wgamean.jackpot()/10000)\n",
    "\n",
    "#Computes and saves the values for jackpot frequency for the two games\n",
    "\n",
    "diegamedf = pd.DataFrame({'Freq': [fgamefreq, wgamefreq]}, index=['Fair', 'Weighted'])\n",
    "diegamedf.plot.bar(title = 'Jackpot Frequencies', xlabel ='Game', ylabel='Frequency', legend = False)\n"
   ]
  },
  {
   "cell_type": "markdown",
   "id": "b061502c-ea13-49f2-b759-ed9ef1aa529e",
   "metadata": {},
   "source": [
    "### 5."
   ]
  },
  {
   "cell_type": "code",
   "execution_count": 11,
   "id": "57479bd1-f144-4578-a1bf-2824ab700478",
   "metadata": {},
   "outputs": [],
   "source": [
    "fcombodf = fgamean.combo()\n",
    "wcombodf = wgamean.combo()"
   ]
  },
  {
   "cell_type": "code",
   "execution_count": 12,
   "id": "f0de1cbc-0c1f-4e55-96ca-612304a7f6aa",
   "metadata": {},
   "outputs": [],
   "source": [
    "fdf10 = fcombodf.head(10).reset_index()\n",
    "wdf10 = wcombodf.head(10).reset_index()\n",
    "fdf10['freq'] = fdf10['n']/10000\n",
    "wdf10['freq'] = wdf10['n']/10000\n",
    "#This loads in the combo df, resets the index and adds a column with the frequency for each combo "
   ]
  },
  {
   "cell_type": "code",
   "execution_count": 13,
   "id": "c20edef9-945e-424f-9d98-325036ab6a06",
   "metadata": {},
   "outputs": [
    {
     "data": {
      "text/plain": [
       "<AxesSubplot:title={'center':'Fair Jackpot Frequencies'}, xlabel='Combo', ylabel='Frequency'>"
      ]
     },
     "execution_count": 13,
     "metadata": {},
     "output_type": "execute_result"
    },
    {
     "data": {
      "image/png": "[encoded data removed]",
      "text/plain": [
       "<Figure size 432x288 with 1 Axes>"
      ]
     },
     "metadata": {
      "needs_background": "light"
     },
     "output_type": "display_data"
    }
   ],
   "source": [
    "fdf10['freq'].plot.bar(title = 'Fair Jackpot Frequencies', xlabel ='Combo', ylabel='Frequency', legend = False)"
   ]
  },
  {
   "cell_type": "code",
   "execution_count": 14,
   "id": "dcc54bb1-f372-4563-adb4-127226f71f06",
   "metadata": {},
   "outputs": [
    {
     "data": {
      "text/plain": [
       "<AxesSubplot:title={'center':'Weighted Jackpot Frequencies'}, xlabel='Combo', ylabel='Frequency'>"
      ]
     },
     "execution_count": 14,
     "metadata": {},
     "output_type": "execute_result"
    },
    {
     "data": {
      "image/png": "[encoded data removed]",
      "text/plain": [
       "<Figure size 432x288 with 1 Axes>"
      ]
     },
     "metadata": {
      "needs_background": "light"
     },
     "output_type": "display_data"
    }
   ],
   "source": [
    "wdf10['freq'].plot.bar(title = 'Weighted Jackpot Frequencies', xlabel ='Combo', ylabel='Frequency', legend = False)"
   ]
  },
  {
   "cell_type": "markdown",
   "id": "35c984cd-7abe-42d5-8f97-d7ce8622d634",
   "metadata": {},
   "source": [
    "# Scenario 3: Letters of the Roman Alphabet"
   ]
  },
  {
   "cell_type": "markdown",
   "id": "864f4397-7511-4d22-979a-6720b3c50b1d",
   "metadata": {},
   "source": [
    "### 1."
   ]
  },
  {
   "cell_type": "code",
   "execution_count": 15,
   "id": "7cbc7157-68d8-4bc0-b983-1a8455535eab",
   "metadata": {},
   "outputs": [],
   "source": [
    "atable = pd.read_csv('letter-freqs.csv', names=['Letters','Weights'], sep='\\t')\n",
    "alphabet = FClasses.Die(atable['Letters'])\n",
    "for i in range(len(atable)):\n",
    "    alphabet.change_weight(str(atable['Letters'][i]), float(atable['Weights'][i]))\n"
   ]
  },
  {
   "cell_type": "markdown",
   "id": "7e79ff9f-4151-4d10-b29b-4eac18a3d243",
   "metadata": {},
   "source": [
    "### 2."
   ]
  },
  {
   "cell_type": "code",
   "execution_count": 16,
   "id": "6df969f6-ab1a-4d95-9357-46b48ca8c514",
   "metadata": {},
   "outputs": [],
   "source": [
    "alphagame = FClasses.Game([alphabet, alphabet, alphabet, alphabet, alphabet])\n",
    "alphagame.play(1000)"
   ]
  },
  {
   "cell_type": "markdown",
   "id": "ff7cfd9d-4673-4446-a57b-83a96c795963",
   "metadata": {},
   "source": [
    "### 3. "
   ]
  },
  {
   "cell_type": "code",
   "execution_count": 17,
   "id": "9872a7db-fd62-485a-9ff9-0328543dbe3d",
   "metadata": {},
   "outputs": [],
   "source": [
    "alphan = FClasses.Analyzer(alphagame)\n",
    "alphcombo = alphan.combo()"
   ]
  },
  {
   "cell_type": "markdown",
   "id": "a72d3fca-86b7-49c6-9da5-1f2a26b7dd71",
   "metadata": {},
   "source": [
    "English-Like Words = 44"
   ]
  },
  {
   "cell_type": "markdown",
   "id": "baf4312b-5594-4cda-9954-aa9db3f996f3",
   "metadata": {},
   "source": [
    "### 4."
   ]
  },
  {
   "cell_type": "markdown",
   "id": "bc1e9541-553d-4b66-9bc4-4d6e14b81030",
   "metadata": {},
   "source": [
    "Frequency of Like-Words = 44/996 = 0.04417670682730924"
   ]
  }
 ],
 "metadata": {
  "kernelspec": {
   "display_name": "Python 3 (ipykernel)",
   "language": "python",
   "name": "python3"
  },
  "language_info": {
   "codemirror_mode": {
    "name": "ipython",
    "version": 3
   },
   "file_extension": ".py",
   "mimetype": "text/x-python",
   "name": "python",
   "nbconvert_exporter": "python",
   "pygments_lexer": "ipython3",
   "version": "3.9.7"
  }
 },
 "nbformat": 4,
 "nbformat_minor": 5
}
