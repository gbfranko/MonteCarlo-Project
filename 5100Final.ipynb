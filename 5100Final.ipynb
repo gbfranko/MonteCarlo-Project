{
 "cells": [
  {
   "cell_type": "markdown",
   "id": "1a1baa03-81dd-4d43-be74-1b2f1eb48fbc",
   "metadata": {},
   "source": [
    "# Metadata\n",
    "\n",
    "- Title: Final Project Report\n",
    "- Class: DS5100\n",
    "- Date: June 15, 2022\n",
    "- Student Name: Gunnar Franko\n",
    "- Student ID: gbf6qz \n",
    "- This URL: https://github.com/gbfranko/MonteCarlo-Project/blob/main/5100Final.ipynb\n",
    "- GitHub Repo URL: https://github.com/gbfranko/MonteCarlo-Project"
   ]
  },
  {
   "cell_type": "markdown",
   "id": "991b6184-2a73-446b-b742-718d1152f865",
   "metadata": {},
   "source": [
    "# The Monte Carlo Module"
   ]
  },
  {
   "cell_type": "code",
   "execution_count": 1,
   "id": "7117c312-6f14-4f51-bdcf-0b9cea931286",
   "metadata": {},
   "outputs": [],
   "source": [
    "import pandas as pd\n",
    "import numpy as np\n",
    "\n",
    "\n",
    "class Die:\n",
    "    '''\n",
    "    A die has N sides, or “faces”, and W weights, and can be rolled to select a face. \n",
    "    W defaults to 1.0 for each face but can be changed after the object is created.\n",
    "    The die has one behavior, which is to be rolled one or more times.\n",
    "    '''\n",
    "    def __init__(self, N):\n",
    "        '''\n",
    "        Takes an array of faces as an argument. The array's data type (dtype) may be strings or numbers.\n",
    "        Internally iInitializes the weights to 1.0 for each face.\n",
    "        Saves both faces and weights into a private dataframe that is to be shared by the other methods.\n",
    "\n",
    "        '''\n",
    "        self.faces = N\n",
    "        self.weights = np.ones(len(N))\n",
    "        self._diedf = pd.DataFrame({'faces':self.faces, 'weights':self.weights})\n",
    "        \n",
    "    def change_weight(self, face, weight):\n",
    "        '''\n",
    "        Takes two arguments: the face value to be changed and the new weight.\n",
    "        Checks to see if the face passed is valid; is it in the array of weights?\n",
    "        Checks to see if the weight is valid; is it a float? Can it be converted to one?\n",
    "\n",
    "        '''\n",
    "        if type(weight) != float:\n",
    "            print('Weight is not a float')\n",
    "        elif any(face == self._diedf['faces']):\n",
    "            self._diedf.loc[self._diedf['faces']==face, 'weights']= weight\n",
    "        else:\n",
    "            print('Face does not exist')\n",
    "    \n",
    "    def roll(self, times=1):\n",
    "        '''\n",
    "        Takes a parameter of how many times the die is to be rolled; defaults to 1. \n",
    "        This is essentially a random sample from the vector of faces according to the weights.\n",
    "        Returns a list of outcomes.\n",
    "        Does not store internally these results. \n",
    "\n",
    "        '''\n",
    "        return(self._diedf['faces'].sample(times,replace=True,\n",
    "                                           weights=self._diedf['weights']/sum(self._diedf['weights'])))\n",
    "    \n",
    "    def show(self):\n",
    "        '''\n",
    "        Returns the dataframe created in the initializer.\n",
    "\n",
    "        '''\n",
    "        return(self._diedf)\n",
    "        \n",
    "            \n",
    "\n",
    "\n",
    "class Game(Die):\n",
    "    '''\n",
    "    A game consists of rolling of one or more dice of the same kind one or more times. \n",
    "    Each game is initialized with one or more of similarly defined dice (Die objects).\n",
    "    By “same kind” and “similarly defined” we mean that each die in a given game has \n",
    "    the same number of sides and associated faces, but each die object may have its own weights.\n",
    "    The class has a behavior to play a game, i.e. to rolls all of the dice a given number of times.\n",
    "    The class keeps the results of its most recent play. \n",
    "    '''\n",
    "    def __init__(self, dies):\n",
    "        '''\n",
    "        Takes a single parameter, a list of already instantiated similar Die objects.\n",
    "\n",
    "        '''\n",
    "        self.dies = dies\n",
    "     \n",
    "    def play(self, nrolls):\n",
    "        '''\n",
    "        Takes a parameter to specify how many times the dice should be rolled.\n",
    "        Saves the result of the play to a private dataframe of shape N rolls by M dice.\n",
    "        The private dataframe should have the roll number is a named index.\n",
    "\n",
    "        '''\n",
    "        self._playdf= pd.DataFrame()\n",
    "        counter = 0\n",
    "        for i in self.dies:\n",
    "            counter += 1\n",
    "            self._playdf['Die '+str(counter)]=(i.roll(nrolls)).tolist()\n",
    "        dexcount = 0\n",
    "        self.playdex = []\n",
    "        for i in range(nrolls):\n",
    "            dexcount +=1\n",
    "            self.playdex.append('Roll '+str(dexcount).zfill(len(str(nrolls))))\n",
    "        self._playdf.index = (self.playdex)\n",
    "    \n",
    "    def Gshow(self, form = 'wide'):\n",
    "        '''\n",
    "        This method just passes the private dataframe to the user.\n",
    "        Takes a parameter to return the dataframe in narrow or wide form.\n",
    "        This parameter defaults to wide form.\n",
    "        This parameter should raise an exception of the user passes an invalid option.\n",
    "        The narrow form of the dataframe will have a two-column index with the roll number \n",
    "        and the die number, and a column for the face rolled.\n",
    "        The wide form of the dataframe will a single column index with the roll number, \n",
    "        and each die number as a column.\n",
    "\n",
    "        '''\n",
    "        form = form\n",
    "        if form == 'wide':\n",
    "            return(np.transpose(self._playdf))\n",
    "        elif form =='narrow':\n",
    "            return( self._playdf.stack())\n",
    "        else:\n",
    "            print('Invalid Form')\n",
    "\n",
    "\n",
    "\n",
    "class Analyzer(Game):\n",
    "    '''\n",
    "    An analyzer takes the results of a single game and computes various descriptive \n",
    "    statistical properties about it. These properties results are available as attributes \n",
    "    of an Analyzer object. \n",
    "\n",
    "    '''\n",
    "    \n",
    "    def __init__(self, game):\n",
    "        '''\n",
    "        Takes a game object as its input parameter. \n",
    "        At initialization time, it also infers the data type of the die faces used.\n",
    "\n",
    "        '''\n",
    "        self.game = game\n",
    "        self.ftype = type(self.game.dies[0]._diedf['faces'][0])\n",
    "        \n",
    "    def jackpot(self):\n",
    "        '''\n",
    "        Returns an integer for the number times to the user.\n",
    "        Stores the results as a dataframe of jackpot results in a public attribute.\n",
    "        The dataframe should have the roll number as a named index.\n",
    "\n",
    "        '''\n",
    "        self.jpotdf = self.game._playdf\n",
    "        for row in self.game._playdf.index:\n",
    "            if len(np.unique(self.game._playdf.loc[row,:])) >1 :\n",
    "                self.jpotdf = self.jpotdf.drop(row)\n",
    "        self.numjpot = len(self.jpotdf)\n",
    "        return(int(self.numjpot))\n",
    "        \n",
    "    def combo(self):\n",
    "        '''\n",
    "        Combinations should be sorted and saved as a multi-columned index.\n",
    "        Stores the results as a dataframe in a public attribute.\n",
    "        '''\n",
    "        self.combo = self.game._playdf.apply(lambda x: pd.Series(sorted(x)), 1).value_counts().to_frame('n')\n",
    "        return(self.combo)\n",
    "    \n",
    "    def face_counts_per_roll(self):\n",
    "        '''\n",
    "        Stores the results as a dataframe in a public attribute.\n",
    "        The dataframe has an index of the roll number and face values as columns (i.e. it is in wide format).\n",
    "        '''\n",
    "        self.fcpr = self.game._playdf.stack().groupby(level=0).value_counts().unstack(fill_value=0)\n",
    "        return(self.fcpr)\n"
   ]
  },
  {
   "cell_type": "markdown",
   "id": "0569009d-e7c5-4daa-9d00-ce4f5ddcb1d8",
   "metadata": {},
   "source": [
    "# Test Module"
   ]
  },
  {
   "cell_type": "code",
   "execution_count": 2,
   "id": "bf7b74e9-ee9f-4e44-af01-c52f532308e9",
   "metadata": {
    "collapsed": true,
    "jupyter": {
     "outputs_hidden": true
    },
    "tags": []
   },
   "outputs": [
    {
     "name": "stderr",
     "output_type": "stream",
     "text": [
      "/Users/gunnarfranko/Library/Jupyter/runtime/kernel-43ea4a1a-8d40-4bf9-bc13-709c10b9e2c7 (unittest.loader._FailedTest) ... ERROR\n",
      "\n",
      "======================================================================\n",
      "ERROR: /Users/gunnarfranko/Library/Jupyter/runtime/kernel-43ea4a1a-8d40-4bf9-bc13-709c10b9e2c7 (unittest.loader._FailedTest)\n",
      "----------------------------------------------------------------------\n",
      "AttributeError: module '__main__' has no attribute '/Users/gunnarfranko/Library/Jupyter/runtime/kernel-43ea4a1a-8d40-4bf9-bc13-709c10b9e2c7'\n",
      "\n",
      "----------------------------------------------------------------------\n",
      "Ran 1 test in 0.001s\n",
      "\n",
      "FAILED (errors=1)\n"
     ]
    },
    {
     "ename": "SystemExit",
     "evalue": "True",
     "output_type": "error",
     "traceback": [
      "An exception has occurred, use %tb to see the full traceback.\n",
      "\u001b[0;31mSystemExit\u001b[0m\u001b[0;31m:\u001b[0m True\n"
     ]
    },
    {
     "name": "stderr",
     "output_type": "stream",
     "text": [
      "/Users/gunnarfranko/opt/anaconda3/lib/python3.9/site-packages/IPython/core/interactiveshell.py:3452: UserWarning: To exit: use 'exit', 'quit', or Ctrl-D.\n",
      "  warn(\"To exit: use 'exit', 'quit', or Ctrl-D.\", stacklevel=1)\n"
     ]
    }
   ],
   "source": [
    "import unittest\n",
    "import montecarlo\n",
    "import pandas\n",
    "\n",
    "\n",
    "class montecarloTestSuite(unittest.TestCase):\n",
    "    '''\n",
    "    Includes unittests for each method in each class of the montecarlo.py\n",
    "    '''\n",
    "    \n",
    "    def test_1_change_weight(self):\n",
    "        '''\n",
    "        Adds a Die, Changes weight then tests if weight is different\n",
    "        '''\n",
    "        d1 = montecarlo.Die(['H','T'])\n",
    "        d1.change_weight('H',3.0)\n",
    "        self.assertFalse(d1._diedf['weights'][0]==1.0)\n",
    "        \n",
    "    def test_2_roll(self):\n",
    "        '''\n",
    "        Sets a number of rolls for the game and makes sure that it rolls that many times\n",
    "        '''\n",
    "        d1 = montecarlo.Die(['H','T'])\n",
    "        d2 = montecarlo.Game([d1,d1])\n",
    "        d2.play(43)\n",
    "        test2 = len(d2._playdf)\n",
    "        self.assertEqual(test2, 43)\n",
    "        \n",
    "    def test_3_show(self):\n",
    "        '''\n",
    "        Runs the game then sees if the wide function works for dataframe of rolls\n",
    "        '''\n",
    "        d1 = montecarlo.Die(['H','T'])\n",
    "        test3 = type(d1._diedf)\n",
    "        self.assertEqual(test3, pandas.core.frame.DataFrame)\n",
    "    \n",
    "    \n",
    "    def test_4_play(self):\n",
    "        '''\n",
    "        Runs the play and tests that it returns dataframe\n",
    "        '''\n",
    "        d1 = montecarlo.Die(['H','T'])\n",
    "        d2 = montecarlo.Game([d1,d1])\n",
    "        d2.play(43)\n",
    "        test4 = type(d2._playdf)\n",
    "        self.assertEqual(test4, pandas.core.frame.DataFrame)\n",
    "        \n",
    "    def test_5_play(self):\n",
    "        '''\n",
    "        Runs same play as test 4 and tests to see if the length of data frame is same as number of rolls \n",
    "        '''\n",
    "        d1 = montecarlo.Die(['H','T'])\n",
    "        d2 = montecarlo.Game([d1,d1])\n",
    "        d2.play(43)\n",
    "        test5 = len(d2._playdf)\n",
    "        self.assertEqual(test5, 43)\n",
    "        \n",
    "    def test_6_Gshow(self):\n",
    "        '''\n",
    "        Runs same game and tests to see if the wide works\n",
    "        '''\n",
    "        d1 = montecarlo.Die(['H','T'])\n",
    "        d2 = montecarlo.Game([d1,d1])\n",
    "        d2.play(43)\n",
    "        test6 = len(d2.Gshow('wide'))\n",
    "        self.assertEqual(test6, 2)\n",
    "        \n",
    "    def test_7_Gshow(self):\n",
    "        '''\n",
    "        Runs same game and tests to see if the narrow works \n",
    "        '''\n",
    "        d1 = montecarlo.Die(['H','T'])\n",
    "        d2 = montecarlo.Game([d1,d1])\n",
    "        d2.play(43)\n",
    "        test7 = len(d2.Gshow('narrow'))\n",
    "        self.assertEqual(test7, 86)\n",
    "        \n",
    "    def test_8_jackpot(self):\n",
    "        '''\n",
    "        Runs same game and tests to see if jackpot returns an int \n",
    "        '''\n",
    "        d1 = montecarlo.Die(['H','T'])\n",
    "        d2 = montecarlo.Game([d1,d1])\n",
    "        d2.play(43)\n",
    "        d3 = montecarlo.Analyzer(d2)\n",
    "        test8 = type(d3.jackpot())\n",
    "        self.assertEqual(test8, int)\n",
    "        \n",
    "    def test_9_combo(self):\n",
    "        '''\n",
    "        Runs the game and tests to see if combo dataframe has right dimensions\n",
    "        '''\n",
    "        d1 = montecarlo.Die(['H','T'])\n",
    "        d2 = montecarlo.Game([d1,d1])\n",
    "        d2.play(43)\n",
    "        d3 = montecarlo.Analyzer(d2)   \n",
    "        test9 = d3.combo().shape\n",
    "        self.assertEqual(test9, (3,1))\n",
    "\n",
    "    def test_10_face_counts_per_roll(self):\n",
    "        '''\n",
    "        Runs the game and tests to see if facecount dataframe has right dimensions\n",
    "        '''        \n",
    "        d1 = montecarlo.Die(['H','T'])\n",
    "        d2 = montecarlo.Game([d1,d1])\n",
    "        d2.play(43)\n",
    "        d3 = montecarlo.Analyzer(d2)   \n",
    "        test10 = d3.face_counts_per_roll().shape  \n",
    "        self.assertEqual(test10, (43,2))\n",
    "        \n",
    "    def test_11_init(self):\n",
    "        '''\n",
    "        Tests to see if the Die class initializes \n",
    "\n",
    "        '''\n",
    "        try:\n",
    "            d1 = montecarlo.Die(['1', '2', '3', '4'])\n",
    "        except RuntimeError:\n",
    "            print('The Die was not created')\n",
    "        \n",
    "    def test_12_init(self):\n",
    "        '''\n",
    "        Tests to see if the Game class initializes\n",
    "        '''\n",
    "        try:\n",
    "            d1 = montecarlo.Die(['1', '2', '3', '4'])\n",
    "            d2 = montecarlo.Game([d1,d1])\n",
    "        except RuntimeError:\n",
    "            print('The Game was not created')\n",
    "        \n",
    "    def test_13_init(self):\n",
    "        '''\n",
    "        Tests to see if the Analyzer class initializes \n",
    "        '''\n",
    "        try:\n",
    "            d1 = montecarlo.Die(['1', '2', '3', '4'])\n",
    "            d2 = montecarlo.Game([d1,d1])\n",
    "            d2.play(43)\n",
    "            d3 = montecarlo.Analyzer(d2)\n",
    "        except RuntimeError:\n",
    "            print('The Game was not Analyzed')\n",
    "        \n",
    "        \n",
    "    \n",
    "    \n",
    "if __name__ == '__main__':\n",
    "    unittest.main(verbosity=3)\n"
   ]
  },
  {
   "cell_type": "markdown",
   "id": "c2a8789a-35b5-4371-bb52-426b55469e85",
   "metadata": {},
   "source": [
    "# Test Results "
   ]
  },
  {
   "cell_type": "raw",
   "id": "37e272f7-b175-4879-90ef-e1881eb32653",
   "metadata": {},
   "source": [
    "test_10_face_counts_per_roll (__main__.montecarloTestSuite) ... ok\n",
    "test_11_init (__main__.montecarloTestSuite) ... ok\n",
    "test_12_init (__main__.montecarloTestSuite) ... ok\n",
    "test_13_init (__main__.montecarloTestSuite) ... ok\n",
    "test_1_change_weight (__main__.montecarloTestSuite) ... ok\n",
    "test_2_roll (__main__.montecarloTestSuite) ... ok\n",
    "test_3_show (__main__.montecarloTestSuite) ... ok\n",
    "test_4_play (__main__.montecarloTestSuite) ... ok\n",
    "test_5_play (__main__.montecarloTestSuite) ... ok\n",
    "test_6_Gshow (__main__.montecarloTestSuite) ... ok\n",
    "test_7_Gshow (__main__.montecarloTestSuite) ... ok\n",
    "test_8_jackpot (__main__.montecarloTestSuite) ... ok\n",
    "test_9_combo (__main__.montecarloTestSuite) ... ok\n",
    "----------------------------------------------------------------------\n",
    "Ran 13 tests in 0.101s\n",
    "OK"
   ]
  },
  {
   "cell_type": "markdown",
   "id": "2188882f-7606-455d-ba70-1b180f32e0cc",
   "metadata": {},
   "source": [
    "# Scenarios\n",
    "\n",
    "Code blocks with your scenarios and their outputs.\n",
    "\n",
    "These should have appropriate import statements even though the code is now in the same notebook as the class it calls. "
   ]
  },
  {
   "cell_type": "markdown",
   "id": "f9c9933e-78d7-491a-a8dd-15f3d4f479de",
   "metadata": {},
   "source": [
    "## Scenario 1"
   ]
  },
  {
   "cell_type": "code",
   "execution_count": 3,
   "id": "09f5362e-41dc-4da5-a06a-1d1cee3b2daa",
   "metadata": {},
   "outputs": [],
   "source": [
    "import pandas as pd\n",
    "import numpy as np\n",
    "import os\n",
    "os.chdir('/Users/gunnarfranko/Downloads/DS 5100/')\n",
    "import montecarlo as FClasses"
   ]
  },
  {
   "cell_type": "code",
   "execution_count": 4,
   "id": "be718b15-6b99-475d-9b7b-d6e51fb5c5e5",
   "metadata": {},
   "outputs": [
    {
     "data": {
      "text/plain": [
       "<AxesSubplot:title={'center':'Jackpot Frequencies'}, xlabel='Game', ylabel='Frequency'>"
      ]
     },
     "execution_count": 4,
     "metadata": {},
     "output_type": "execute_result"
    },
    {
     "data": {
      "image/png": "[encoded data removed]",
      "text/plain": [
       "<Figure size 432x288 with 1 Axes>"
      ]
     },
     "metadata": {
      "needs_background": "light"
     },
     "output_type": "display_data"
    }
   ],
   "source": [
    "coin1= FClasses.Die(['H', 'T'])\n",
    "coin2 = FClasses.Die(['H', 'T'])\n",
    "coin2.change_weight('H', 5.0)\n",
    "game1 = FClasses.Game([coin1, coin1, coin1])\n",
    "game1.play(1000)\n",
    "game2 = FClasses.Game([coin1, coin2, coin2])\n",
    "game2.play(1000)\n",
    "game1an = FClasses.Analyzer(game1)\n",
    "game2an = FClasses.Analyzer(game2)\n",
    "game1freq = (game1an.jackpot()/1000)\n",
    "game2freq = (game2an.jackpot()/1000)\n",
    "gamedf = pd.DataFrame({'Freq': [game1freq, game2freq]}, index=['Fair', 'Unfair'])\n",
    "gamedf.plot.bar(title = 'Jackpot Frequencies', xlabel ='Game', ylabel='Frequency', legend = False)"
   ]
  },
  {
   "cell_type": "markdown",
   "id": "cfa68874-16cb-4216-b04d-53badf54fe90",
   "metadata": {},
   "source": [
    "## Scenario 2"
   ]
  },
  {
   "cell_type": "code",
   "execution_count": 5,
   "id": "24caad31-5ad4-49f8-848c-c274c8417e11",
   "metadata": {},
   "outputs": [
    {
     "data": {
      "image/png": "[encoded data removed]",
      "text/plain": [
       "<Figure size 432x288 with 1 Axes>"
      ]
     },
     "metadata": {
      "needs_background": "light"
     },
     "output_type": "display_data"
    }
   ],
   "source": [
    "FDie = FClasses.Die(['1','2','3','4','5','6'])\n",
    "T1Die = FClasses.Die(['1','2','3','4','5','6'])\n",
    "T2Die = FClasses.Die(['1','2','3','4','5','6'])\n",
    "T1Die.change_weight('6', 5.0)\n",
    "T2Die.change_weight('1', 5.0)\n",
    "fgame = FClasses.Game([FDie, FDie, FDie, FDie, FDie])\n",
    "fgame.play(10000)\n",
    "wgame = FClasses.Game([T1Die, T1Die, T2Die, FDie, FDie])\n",
    "wgame.play(10000)\n",
    "fgamean = FClasses.Analyzer(fgame)\n",
    "wgamean = FClasses.Analyzer(wgame)\n",
    "fgamefreq = (fgamean.jackpot()/10000)\n",
    "wgamefreq = (wgamean.jackpot()/10000)\n",
    "diegamedf = pd.DataFrame({'Freq': [fgamefreq, wgamefreq]}, index=['Fair', 'Weighted'])\n",
    "diegamedf.plot.bar(title = 'Jackpot Frequencies', xlabel ='Game', ylabel='Frequency', legend = False)\n",
    "fcombodf = fgamean.combo()\n",
    "wcombodf = wgamean.combo()\n",
    "fdf10 = fcombodf.head(10).reset_index()\n",
    "wdf10 = wcombodf.head(10).reset_index()\n",
    "fdf10['freq'] = fdf10['n']/10000\n",
    "wdf10['freq'] = wdf10['n']/10000"
   ]
  },
  {
   "cell_type": "code",
   "execution_count": 6,
   "id": "98cda253-0fa1-4f3d-a0ee-8b2d018e46ea",
   "metadata": {},
   "outputs": [
    {
     "data": {
      "text/plain": [
       "<AxesSubplot:title={'center':'Fair Jackpot Frequencies'}, xlabel='Combo', ylabel='Frequency'>"
      ]
     },
     "execution_count": 6,
     "metadata": {},
     "output_type": "execute_result"
    },
    {
     "data": {
      "image/png": "[encoded data removed]",
      "text/plain": [
       "<Figure size 432x288 with 1 Axes>"
      ]
     },
     "metadata": {
      "needs_background": "light"
     },
     "output_type": "display_data"
    }
   ],
   "source": [
    "fdf10['freq'].plot.bar(title = 'Fair Jackpot Frequencies', xlabel ='Combo', ylabel='Frequency', legend = False)"
   ]
  },
  {
   "cell_type": "code",
   "execution_count": 7,
   "id": "7d33707c-042a-4222-b031-84bfc7f041df",
   "metadata": {},
   "outputs": [
    {
     "data": {
      "text/plain": [
       "<AxesSubplot:title={'center':'Weighted Jackpot Frequencies'}, xlabel='Combo', ylabel='Frequency'>"
      ]
     },
     "execution_count": 7,
     "metadata": {},
     "output_type": "execute_result"
    },
    {
     "data": {
      "image/png": "[encoded data removed]",
      "text/plain": [
       "<Figure size 432x288 with 1 Axes>"
      ]
     },
     "metadata": {
      "needs_background": "light"
     },
     "output_type": "display_data"
    }
   ],
   "source": [
    "wdf10['freq'].plot.bar(title = 'Weighted Jackpot Frequencies', xlabel ='Combo', ylabel='Frequency', legend = False)"
   ]
  },
  {
   "cell_type": "markdown",
   "id": "21474a15-354c-431f-978f-018ed7bf6095",
   "metadata": {},
   "source": [
    "## Scenario 3"
   ]
  },
  {
   "cell_type": "code",
   "execution_count": 8,
   "id": "6bd7a1a9-c6c1-4e11-9483-abea3b874c29",
   "metadata": {},
   "outputs": [],
   "source": [
    "atable = pd.read_csv('letter-freqs.csv', names=['Letters','Weights'], sep='\\t')\n",
    "alphabet = FClasses.Die(atable['Letters'])\n",
    "for i in range(len(atable)):\n",
    "    alphabet.change_weight(str(atable['Letters'][i]), float(atable['Weights'][i]))\n",
    "\n",
    "alphagame = FClasses.Game([alphabet, alphabet, alphabet, alphabet, alphabet])\n",
    "alphagame.play(1000)\n",
    "\n",
    "alphan = FClasses.Analyzer(alphagame)\n",
    "alphcombo = alphan.combo()"
   ]
  },
  {
   "cell_type": "markdown",
   "id": "82f8e673-2848-435e-9437-d90ccc1ca6c6",
   "metadata": {},
   "source": [
    "English-Like Words = 44   \n",
    "Frequency of Like-Words = 44/996 = 0.04417670682730924"
   ]
  },
  {
   "cell_type": "markdown",
   "id": "b567955a-183f-4305-a7c8-1fff1e009b94",
   "metadata": {},
   "source": [
    "# Directory Listing\n",
    "A code block that executes the following bash command:   \n",
    "!ls -lRF -o"
   ]
  },
  {
   "cell_type": "code",
   "execution_count": 2,
   "id": "6a0717cd-82b1-4753-9713-b3e6d87a0bb3",
   "metadata": {
    "tags": []
   },
   "outputs": [
    {
     "name": "stdout",
     "output_type": "stream",
     "text": [
      "total 216\n",
      "-rw-r--r--  1 gunnarfranko  23068 Jul 15 11:42 5100Final.ipynb\n",
      "drwxr-xr-x  7 gunnarfranko    224 Jul 15 11:44 \u001b[34mMonteCarlo.egg-info\u001b[m\u001b[m/\n",
      "-rw-r--r--  1 gunnarfranko    180 Jul 14 18:28 __init__.py\n",
      "drwxr-xr-x  3 gunnarfranko     96 Jul 15 11:26 \u001b[34m__pycache__\u001b[m\u001b[m/\n",
      "-rw-r--r--  1 gunnarfranko   6188 Jul 14 10:46 montecarlo.py\n",
      "-rw-r--r--  1 gunnarfranko  54904 Jul 15 11:08 montecarlo_demo.ipynb\n",
      "-rw-r--r--@ 1 gunnarfranko    781 Jul 14 11:21 montecarlo_test.txt\n",
      "-rw-r--r--  1 gunnarfranko   4488 Jul 14 10:45 montecarlo_tests.py\n",
      "-rw-r--r--@ 1 gunnarfranko    473 Jul 15 11:37 setup.py\n",
      "\n",
      "./MonteCarlo.egg-info:\n",
      "total 40\n",
      "-rw-r--r--  1 gunnarfranko  238 Jul 15 11:44 PKG-INFO\n",
      "-rw-r--r--  1 gunnarfranko  177 Jul 15 11:44 SOURCES.txt\n",
      "-rw-r--r--  1 gunnarfranko    1 Jul 15 11:44 dependency_links.txt\n",
      "-rw-r--r--  1 gunnarfranko   32 Jul 15 11:44 requires.txt\n",
      "-rw-r--r--  1 gunnarfranko    1 Jul 15 11:44 top_level.txt\n",
      "\n",
      "./__pycache__:\n",
      "total 16\n",
      "-rw-r--r--  1 gunnarfranko  6967 Jul 15 11:26 montecarlo.cpython-39.pyc\n"
     ]
    }
   ],
   "source": [
    "!ls -lRF -o"
   ]
  },
  {
   "cell_type": "markdown",
   "id": "9285b0c2-709e-4f5c-9a72-66ce85f0a406",
   "metadata": {},
   "source": [
    "# Installation Output Listing\n",
    "A code block that executes the code to install your package and outputs a succesful installation"
   ]
  },
  {
   "cell_type": "code",
   "execution_count": 1,
   "id": "e20a8180-253c-45b5-88ea-e8769329ca91",
   "metadata": {},
   "outputs": [
    {
     "name": "stdout",
     "output_type": "stream",
     "text": [
      "Obtaining file:///Users/gunnarfranko/Downloads/DS%205100/Final%20Project%20\n",
      "Requirement already satisfied: numpy>=1.11.1 in /Users/gunnarfranko/opt/anaconda3/lib/python3.9/site-packages (from MonteCarlo==1.0.0) (1.20.3)\n",
      "Requirement already satisfied: matplotlib>=1.5.1 in /Users/gunnarfranko/opt/anaconda3/lib/python3.9/site-packages (from MonteCarlo==1.0.0) (3.4.3)\n",
      "Requirement already satisfied: pillow>=6.2.0 in /Users/gunnarfranko/opt/anaconda3/lib/python3.9/site-packages (from matplotlib>=1.5.1->MonteCarlo==1.0.0) (8.4.0)\n",
      "Requirement already satisfied: pyparsing>=2.2.1 in /Users/gunnarfranko/opt/anaconda3/lib/python3.9/site-packages (from matplotlib>=1.5.1->MonteCarlo==1.0.0) (3.0.4)\n",
      "Requirement already satisfied: cycler>=0.10 in /Users/gunnarfranko/opt/anaconda3/lib/python3.9/site-packages (from matplotlib>=1.5.1->MonteCarlo==1.0.0) (0.10.0)\n",
      "Requirement already satisfied: kiwisolver>=1.0.1 in /Users/gunnarfranko/opt/anaconda3/lib/python3.9/site-packages (from matplotlib>=1.5.1->MonteCarlo==1.0.0) (1.3.1)\n",
      "Requirement already satisfied: python-dateutil>=2.7 in /Users/gunnarfranko/opt/anaconda3/lib/python3.9/site-packages (from matplotlib>=1.5.1->MonteCarlo==1.0.0) (2.8.2)\n",
      "Requirement already satisfied: six in /Users/gunnarfranko/opt/anaconda3/lib/python3.9/site-packages (from cycler>=0.10->matplotlib>=1.5.1->MonteCarlo==1.0.0) (1.16.0)\n",
      "Installing collected packages: MonteCarlo\n",
      "  Running setup.py develop for MonteCarlo\n",
      "Successfully installed MonteCarlo\n"
     ]
    }
   ],
   "source": [
    "!pip install -e ."
   ]
  },
  {
   "cell_type": "code",
   "execution_count": null,
   "id": "eb2472f2-cd6a-443d-94ee-56de7ed158fe",
   "metadata": {},
   "outputs": [],
   "source": []
  }
 ],
 "metadata": {
  "kernelspec": {
   "display_name": "Python 3 (ipykernel)",
   "language": "python",
   "name": "python3"
  },
  "language_info": {
   "codemirror_mode": {
    "name": "ipython",
    "version": 3
   },
   "file_extension": ".py",
   "mimetype": "text/x-python",
   "name": "python",
   "nbconvert_exporter": "python",
   "pygments_lexer": "ipython3",
   "version": "3.9.7"
  }
 },
 "nbformat": 4,
 "nbformat_minor": 5
}
